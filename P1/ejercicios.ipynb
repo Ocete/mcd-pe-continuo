{
 "cells": [
  {
   "cell_type": "markdown",
   "id": "0ac98537",
   "metadata": {},
   "source": [
    "%%html\n",
    "<style>\n",
    "    .myblock {\n",
    "        font-style: normal;\n",
    "        text-align: justify;\n",
    "        margin-left: 0px;\n",
    "        margin-right: 10px;\n",
    "        margin-top: 10px;\n",
    "        margin-bottom: 0px;\n",
    "        padding: 10px;\n",
    "        display: block;\n",
    "    }\n",
    "    \n",
    "    .exercise {\n",
    "        background-color: #AFEEEE;\n",
    "    }\n",
    "    \n",
    "    .theorem {\n",
    "        background-color: #FEC4A3;\n",
    "    }\n",
    "</style>"
   ]
  },
  {
   "cell_type": "markdown",
   "id": "01c6a0a9",
   "metadata": {},
   "source": [
    "<center style=\"font-size:25px;padding-bottom:10px;\"><b>Continuous stochastic processes</b></center>\n",
    "<center style=\"font-size:22px;padding-bottom:10px;\"><b>Homework 1</b></center>\n",
    "\n",
    "<center style=\"font-size:20px;padding-bottom:10px;\">José Antonio Álvarez Ocete</center>\n",
    "\n",
    "<center style=\"font-size:20px;\">Francisco Javier Sáez Maldonado</center>"
   ]
  },
  {
   "cell_type": "code",
   "execution_count": 39,
   "id": "77f91b10",
   "metadata": {},
   "outputs": [],
   "source": [
    "import matplotlib.pyplot as plt\n",
    "from scipy.special import factorial\n",
    "import numpy as np\n",
    "from collections import Counter"
   ]
  },
  {
   "cell_type": "markdown",
   "id": "be16c91c",
   "metadata": {},
   "source": [
    "<div class=\"myblock exercise\">\n",
    "<h1>Exercise 1</h1> <a href='#Ejercicio-1' class='anchor-link'>¶</a>\n",
    "\n",
    "A Poisson process with rate $\\lambda$ can be defined as a counting process $\\{N(t); t \\ge0 \\}$ with the following properties:\n",
    "    \n",
    "(a) $N(0) = 0$\n",
    "\n",
    "(b) $N(t)$  has independent and stationary increments.\n",
    "    \n",
    "(c) Let $\\Delta N(t) = N(t + \\Delta t) - N(t)$ with $\\Delta t \\rightarrow 0^+$. The following relations hold:\n",
    "    \n",
    "$$\n",
    "\\begin{align}\n",
    "    \\mathbb P[\\Delta N(t) = 0] & \\; = 1 - \\lambda \\Delta t + o(\\Delta t) \\qquad & (1) \\\\ \n",
    "    \\mathbb P[\\Delta N(t) = 1] & \\; = \\lambda \\Delta t + o(\\Delta t) \\qquad & (2) \\\\\n",
    "    \\mathbb P[\\Delta N(t) \\ge 2] & \\; = o(\\Delta t) \\qquad & (3)\n",
    "\\end{align}\n",
    "$$\n",
    "    \n",
    "<b>a)</b> From this definition show that\n",
    "\n",
    "$$\n",
    "    \\mathbb P[N(t) = n] = \\frac{1}{n!} \\lambda^n t^n e^{-\\lambda t} \\qquad (4) \\\\\n",
    "$$  \n",
    "     \n",
    "<b>b)</b> Illustrate the validity of the derivation by comparing the empirical distribution obtained in a simulation of the Poisson process and the theorical distribution of $\\mathbb P[N(t) = n]$ given by the equation (4) for the values $\\lambda=10$ and $t=2$.\n",
    "</div>"
   ]
  },
  {
   "cell_type": "markdown",
   "id": "590e7b36",
   "metadata": {},
   "source": [
    "### Solution to a)\n",
    "\n",
    "We will prove equation (4) by an inductive procedure.\n",
    "\n",
    "#### Case n=0:\n",
    "\n",
    "From statement (c) we know that $N(t + \\Delta t) = \\Delta N(t) + N(t)$. Then:\n",
    "\n",
    "$$\n",
    "\\begin{align}\n",
    "    \\mathbb P[N(t + \\Delta t) = 0] & = \\mathbb P[\\Delta N(t) + N(t) = 0] \\\\ \n",
    "    & \\stackrel{(*)}{=} \\mathbb P[\\Delta N(t) = 0] \\; \\mathbb P[N(t) = 0] \\\\\n",
    "    & \\stackrel{(1)}{=} \\mathbb P[\\Delta N(t) = 0] \\;  (1 - \\lambda \\Delta t + o(\\Delta t)) \\\\\n",
    "\\end{align}\n",
    "$$\n",
    "\n",
    "where in $(*)$ we statement (b) and the fact that $N(t), \\Delta N(t) \\ge 0$. Rearranging the previous terms we obtain:\n",
    "\n",
    "$$\n",
    "    \\frac{ \\mathbb P[N(t + \\Delta t) = 0] - \\mathbb P[\\Delta N(t) = 0] } {\\Delta t} = - \\lambda \\mathbb P[\\Delta N(t) = 0] + \\frac{o(\\Delta t)}{\\Delta t} \\mathbb P[\\Delta N(t) = 0]\n",
    "$$\n",
    "\n",
    "Taking $\\lim_{\\Delta t \\rightarrow 0^+}$ and using the definition of derivative we obtain:\n",
    "\n",
    "$$\n",
    "    \\frac{\\text d} {\\text dt} \\mathbb P[\\Delta N(t) = 0] = - \\lambda \\mathbb P[\\Delta N(t) = 0]\n",
    "$$\n",
    "\n",
    "This is a linear homogeneus diferential equation, which only solution that satifies the initial condition $\\mathbb P[\\Delta N(t) = 0] = 1$ is\n",
    "\n",
    "$$\n",
    "    \\mathbb P[\\Delta N(t) = 0] = e^{-\\lambda t}\n",
    "$$\n",
    "\n",
    "#### Case n>0:\n",
    "\n",
    "Let's prove the $n$-case with our induction hypothesis for $n-1$:\n",
    "\n",
    "$$\n",
    "    \\mathbb P[N(t) = n-1] = \\frac{1}{(n-1)!} \\lambda^{n-1} t^{n-1} e^{-\\lambda t} \\qquad (5) \\\\\n",
    "$$  \n",
    "\n",
    "We begin with the same development as in the base case, but for and arbitrary $n$:\n",
    "\n",
    "$$\n",
    "\\begin{align}\n",
    "    \\mathbb P[N(t + \\Delta t) = n] & = \\mathbb P[\\Delta N(t) + N(t) = n] \\\\ \n",
    "    & \\stackrel{(*)}{=} \\sum_{k=0}^n \\mathbb P[\\Delta N(t) = k] \\; \\mathbb P[N(t) = n-k] \\\\\n",
    "    & = \\mathbb P[\\Delta N(t) = 0] \\; \\mathbb P[N(t) = n] \\\\\n",
    "    & + \\mathbb P[\\Delta N(t) = 1] \\; \\mathbb P[N(t) = n-1] \\\\\n",
    "    & + \\sum_{k=2}^n \\mathbb P[\\Delta N(t) = k] \\; \\mathbb P[N(t) = n-k] \\\\\n",
    "    & \\stackrel{(1,2,3)}{=} (1 - \\lambda \\Delta t + o(\\Delta t)) \\; \\mathbb P[N(t) = n] \\\\\n",
    "    & + (\\lambda \\Delta t + o(\\Delta t)) \\; \\mathbb P[N(t) = n-1] \\\\\n",
    "    & + o(\\Delta t) \\sum_{k=2}^n \\mathbb \\; \\mathbb P[N(t) = n-k] \\\\\n",
    "    & = (1 - \\lambda \\Delta t ) \\; \\mathbb P[N(t) = n] + \\lambda \\Delta t \\; \\mathbb P[N(t) = n-1] \\\\\n",
    "    & + o(\\Delta t) \\sum_{k=0}^n \\mathbb \\; \\mathbb P[N(t) = n-k] \\\\\n",
    "\\end{align}\n",
    "$$\n",
    "\n",
    "where in $(*)$ we statement (b) and the fact that $N(t), \\Delta N(t) \\ge 0$. Rearranging the previous terms we obtain:\n",
    "\n",
    "$$\n",
    "    \\frac{ \\mathbb P[N(t + \\Delta t) = n] - \\mathbb P[\\Delta N(t) = n] } {\\Delta t} = - \\lambda \\bigg( \\mathbb P[\\Delta N(t) = n] - \\mathbb P[\\Delta N(t) = n-1] \\bigg) + \\frac{o(\\Delta t)}{\\Delta t} \\sum_{k=0}^n \\mathbb \\; \\mathbb P[N(t) = n-k]\n",
    "$$\n",
    "\n",
    "Taking $\\lim_{\\Delta t \\rightarrow 0^+}$ and using the definition of derivative we obtain:\n",
    "\n",
    "$$\n",
    "    \\frac{\\text d} {\\text dt} \\mathbb P[\\Delta N(t) = n] = - \\lambda \\bigg( \\mathbb P[\\Delta N(t) = n] - \\mathbb P[\\Delta N(t) = n-1] \\bigg)\n",
    "$$\n",
    "\n",
    "Using the induction hypothesis (6) we obtain our differential equation:\n",
    "\n",
    "$$\n",
    "    \\frac{\\text d} {\\text dt} \\mathbb P[\\Delta N(t) = n] = - \\lambda \\bigg( \\mathbb P[\\Delta N(t) = n] - \\frac{1}{(n-1)!} \\lambda^{n-1} t^{n-1} e^{-\\lambda t} \\bigg)\n",
    "$$\n",
    "\n",
    "Let us rename our space variable in the previous equation understand it better. We are looking for a function $y(t)$ such that\n",
    "\n",
    "$$\n",
    "    \\frac{\\text d} {\\text dt} y(t) = - \\lambda \\bigg( y(t) - \\frac{1}{(n-1)!} \\lambda^{n-1} t^{n-1} e^{-\\lambda t} \\bigg) \\qquad (6) \\\\\n",
    "$$\n",
    "\n",
    "This differential equation is not linear and, as such, we can solve it using separated variables as we did in the base case. We may use Picard-Lindelöf's Theorem to prove that the solution is unique, and then prove that (4) is a solution to the equation (6). Thus, proving that is the only solution.\n",
    "\n",
    "<div class=\"myblock theorem\">\n",
    "<h1>Theorem (Picard Lindelöf's)</h1>\n",
    "\n",
    "Consider the initial value problem\n",
    "\n",
    "$$\n",
    "    \\frac{\\text d} {\\text dt} y(t) = f(t,y(t)), \\qquad y(t_{0})=y_{0}.\n",
    "$$\n",
    "    \n",
    "Suppose $f$ is uniformly Lipschitz continuous in $y$ (meaning the Lipschitz constant can be taken independent of $t$) and continuous in $t$, then there exists a unique solution $y(t)$ to the initial value problem.\n",
    "</div>\n",
    "\n",
    "Since our function $f(t,y(t))$ is continuous in $t$, we just need to prove that is uniformly Lipschitz continuous in $y$.\n",
    "\n",
    "$$\n",
    "    \\frac{\\text d} {\\text dy} f(t,y(t)) = - \\lambda \\in \\mathbb R\n",
    "$$\n",
    "\n",
    "Since the derivative with respect to $y$ of $f$ is constant, $f$ is uniformly Lipschitz continuous and our initial value problem given by teh equation (6) and the initial condition $\\mathbb P[\\Delta N(t) = n] = 0$ is unique.\n",
    "\n",
    "We just need to prove that (4) is a solution to the differential equation (6). Let $x(t)$ be\n",
    "\n",
    "$$\n",
    "    x(t) \\equiv \\frac{1}{n!} \\lambda^n t^n e^{-\\lambda t}.\n",
    "$$  \n",
    "\n",
    "Then,\n",
    "\n",
    "$$\n",
    "\\begin{align}\n",
    "    \\frac{\\text d} {\\text dt} x(t) & = \\frac{-\\lambda^{n+1} t^{n}}{n!} e^{-\\lambda t} + \\frac{\\lambda^{n} t^{n-1}}{(n-1)!} e^{-\\lambda t} \\\\ \n",
    "    & = -\\lambda \\bigg(\\frac{-\\lambda^{n} t^{n}}{n!} e^{\\lambda t} - \\frac{\\lambda^{n-1} t^{n-1}}{(n-1)!} e^{-\\lambda t} \\bigg) \\\\\n",
    "    & = -\\lambda \\bigg(x(t) - \\frac{\\lambda^{n-1} t^{n-1}}{(n-1)!} e^{-\\lambda t} \\bigg)\n",
    "\\end{align}\n",
    "$$\n",
    "\n",
    "Proving that $x(t)$ as defined in equation (4) is a solution to the differential equation."
   ]
  },
  {
   "cell_type": "markdown",
   "id": "c01683a1",
   "metadata": {},
   "source": [
    "### Solution to b)"
   ]
  },
  {
   "cell_type": "code",
   "execution_count": 40,
   "id": "59d9071e",
   "metadata": {},
   "outputs": [
    {
     "name": "stdout",
     "output_type": "stream",
     "text": [
      "[ 2.06115362e-09  4.12230724e-08  4.12230724e-07  2.74820483e-06\n",
      "  1.37410241e-05  5.49640966e-05  1.83213655e-04  5.23467587e-04\n",
      " -8.68034891e-06  5.10569345e-06  4.53243828e-07 -6.30242284e-08\n",
      "  5.84760882e-09  4.66475917e-10 -4.44262779e-11  1.69242963e-12\n",
      "  0.00000000e+00  0.00000000e+00  0.00000000e+00  0.00000000e+00\n",
      "  0.00000000e+00  0.00000000e+00  0.00000000e+00  0.00000000e+00\n",
      "  0.00000000e+00  0.00000000e+00  0.00000000e+00  0.00000000e+00\n",
      "  0.00000000e+00  0.00000000e+00  0.00000000e+00  0.00000000e+00\n",
      "  0.00000000e+00  0.00000000e+00  0.00000000e+00  0.00000000e+00\n",
      "  0.00000000e+00  0.00000000e+00  0.00000000e+00  0.00000000e+00\n",
      "  0.00000000e+00]\n"
     ]
    },
    {
     "data": {
      "image/png": "[encoded data removed]",
      "text/plain": [
       "<Figure size 720x432 with 1 Axes>"
      ]
     },
     "metadata": {
      "needs_background": "light"
     },
     "output_type": "display_data"
    }
   ],
   "source": [
    "def theoretical_distribution(t, n, lamb):\n",
    "    \"\"\"\"\n",
    "        Computes the theoretical value of a process counting process with\n",
    "        rate lambda. I.e.: P[N(t) = n].\n",
    "        \n",
    "        - t is the time, can be a single value or a numpy array\n",
    "        - n is the number counted, can be a single value or a numpy array\n",
    "        - lambda is the rate, a float\n",
    "        \n",
    "        When both t and n are vector, the funcion is applied pair-wise, given\n",
    "        that the arrays have the same length.\n",
    "    \"\"\"\n",
    "    return (lamb*t)**n * np.exp(-lamb*t)/factorial(n)\n",
    "\n",
    "def exercise_1(t=2, max_n=40, lamb=10):\n",
    "\n",
    "    ns = np.arange(max_n+1)\n",
    "    y_theoretical = theoretical_distribution(t, ns, lamb)\n",
    "\n",
    "    M = 10000\n",
    "    counter = Counter([ len(arrival_times) for arrival_times in arrival.simulate_poisson(0, t, lamb, M)])\n",
    "    total_count = sum(counter.values())\n",
    "    y_simulated = [counter[i]/total_count for i in ns]\n",
    "\n",
    "    # Plotting\n",
    "    width = 0.35\n",
    "    plt.figure(figsize=(10, 6))\n",
    "    plt.bar(ns - width/2, y_theoretical, width, label='Theorical')\n",
    "    plt.bar(ns + width/2, y_simulated, width, label='Simulated')\n",
    "\n",
    "    plt.xlabel('n')\n",
    "    plt.ylabel('P[N(2) = n]')\n",
    "    plt.title('Empirical comparisson of a Poisson process with λ=10, t=2')\n",
    "    plt.legend()\n",
    "\n",
    "t=2\n",
    "lamb=10\n",
    "ns=np.arange(0, 41)\n",
    "print(theoretical_distribution(t, ns, lamb))\n",
    "\n",
    "exercise_1()"
   ]
  },
  {
   "cell_type": "code",
   "execution_count": 37,
   "id": "67a1442c",
   "metadata": {},
   "outputs": [
    {
     "data": {
      "text/plain": [
       "array([2, 4, 8], dtype=int32)"
      ]
     },
     "execution_count": 37,
     "metadata": {},
     "output_type": "execute_result"
    }
   ],
   "source": [
    "2**np.array([1,2,3])"
   ]
  },
  {
   "cell_type": "code",
   "execution_count": 2,
   "id": "8aa9b1ba",
   "metadata": {},
   "outputs": [
    {
     "data": {
      "image/png": "[encoded data removed]",
      "text/plain": [
       "<Figure size 720x576 with 3 Axes>"
      ]
     },
     "metadata": {
      "needs_background": "light"
     },
     "output_type": "display_data"
    }
   ],
   "source": [
    "import matplotlib.pyplot as plt\n",
    "import numpy as np\n",
    "\n",
    "import sys\n",
    "sys.path.append('./imports')\n",
    "import arrival_process_simulation as arrival\n",
    "\n",
    "lambda_rate = 0.5\n",
    "t0 = 0.0\n",
    "t1 = 200.0\n",
    "M = 3\n",
    "arrival_times = arrival.simulate_poisson(t0, t1, lambda_rate, M)\n",
    "fig, axs = plt.subplots(M, sharex=True, num=1, figsize=(10,8))\n",
    "for m in range(M):\n",
    "     axs[m].bar(arrival_times[m], np.ones_like(arrival_times[m]))"
   ]
  },
  {
   "cell_type": "markdown",
   "id": "c66987ff",
   "metadata": {},
   "source": [
    "# Exercise 2\n",
    "\n",
    "Simulate a Poisson process with $\\lambda = 5$. From these simulations show for different values of $n \\in \\{1,2,5,10\\}$ that the probability density of the $n$-th arrival is\n",
    "\n",
    "$$\n",
    "    f_{S_n} (t) = \\frac{1}{(n-1)!} \\lambda^n t^{n-1} e^{-\\lambda t}\n",
    "$$"
   ]
  },
  {
   "cell_type": "code",
   "execution_count": null,
   "id": "0723bcdd",
   "metadata": {},
   "outputs": [],
   "source": [
    "def theoretical_distribution(t, n, lamb):\n",
    "    \"\"\"\"\n",
    "        Computes the theoretical value of a process counting process with\n",
    "        rate lambda. I.e.: P[N(t) = n].\n",
    "        \n",
    "        - t is the time, can be a single value or a numpy array\n",
    "        - n is the number counted, can be a single value or a numpy array\n",
    "        - lambda is the rate, a float\n",
    "        \n",
    "        When both t and n are vector, the funcion is applied pair-wise, given\n",
    "        that the arrays have the same length.\n",
    "    \"\"\"\n",
    "\n",
    "def exercise_2(t=2, ns=[1,2,5,10], lamb=5):\n",
    "\n",
    "\n",
    "    1/factorial(n-1) * lamb**(n-1) * t**n * np.exp(- lamb * t)\n",
    "\n",
    "    ns = np.arange(0, max_n+1)\n",
    "    y_theoretical = theoretical_distribution(t, ns, lamb)\n",
    "\n",
    "    M = 10000\n",
    "    counter = Counter([ len(arrival_times) for arrival_times in arrival.simulate_poisson(0, t, lamb, M)])\n",
    "    total_count = sum(counter.values())\n",
    "    y_simulated = [counter[i]/total_count for i in ns]\n",
    "\n",
    "    # Plotting\n",
    "    width = 0.35\n",
    "    plt.figure(figsize=(10, 6))\n",
    "    plt.bar(ns - width/2, y_theoretical, width, label='Theorical')\n",
    "    plt.bar(ns + width/2, y_simulated, width, label='Simulated')\n",
    "\n",
    "    plt.xlabel('n')\n",
    "    plt.ylabel('P[N(2) = n]')\n",
    "    plt.title('Empirical comparisson of a Poisson process with λ=10, t=2')\n",
    "    plt.legend()\n",
    "\n",
    "t=2\n",
    "lamb=10\n",
    "ns=np.arange(0, 41)\n",
    "print(theoretical_distribution(t, ns, lamb))\n",
    "\n",
    "exercise_1()"
   ]
  }
 ],
 "metadata": {
  "interpreter": {
   "hash": "327d94c82653bcbf1591f046bfaa83bb7ace16fe227fc7b230f02edc918e6ba7"
  },
  "kernelspec": {
   "display_name": "Python 3 (ipykernel)",
   "language": "python",
   "name": "python3"
  },
  "language_info": {
   "codemirror_mode": {
    "name": "ipython",
    "version": 3
   },
   "file_extension": ".py",
   "mimetype": "text/x-python",
   "name": "python",
   "nbconvert_exporter": "python",
   "pygments_lexer": "ipython3",
   "version": "3.7.0"
  }
 },
 "nbformat": 4,
 "nbformat_minor": 5
}
