{
 "cells": [
  {
   "cell_type": "markdown",
   "id": "0ac98537",
   "metadata": {},
   "source": [
    "%%html\n",
    "<style>\n",
    "    .myblock {\n",
    "        font-style: normal;\n",
    "        text-align: justify;\n",
    "        margin-left: 0px;\n",
    "        margin-right: 10px;\n",
    "        margin-top: 10px;\n",
    "        margin-bottom: 0px;\n",
    "        padding: 10px;\n",
    "        display: block;\n",
    "        border-radius: 20px;\n",
    "    }\n",
    "    \n",
    "    .exercise {\n",
    "        background-color: #AFEEEE;\n",
    "    }\n",
    "    \n",
    "    .theorem {\n",
    "        background-color: #FEC4A3;\n",
    "    }\n",
    "</style>"
   ]
  },
  {
   "cell_type": "markdown",
   "id": "01c6a0a9",
   "metadata": {},
   "source": [
    "<center style=\"font-size:25px;padding-bottom:10px;\"><b>Continuous stochastic processes</b></center>\n",
    "<center style=\"font-size:22px;padding-bottom:10px;\"><b>Homework 1</b></center>\n",
    "\n",
    "<center style=\"font-size:20px;padding-bottom:10px;\">José Antonio Álvarez Ocete</center>\n",
    "\n",
    "<center style=\"font-size:20px;\">Francisco Javier Sáez Maldonado</center>"
   ]
  },
  {
   "cell_type": "code",
   "execution_count": 12,
   "id": "77f91b10",
   "metadata": {},
   "outputs": [],
   "source": [
    "import numpy as np\n",
    "import matplotlib.pyplot as plt\n",
    "import imports.arrival_process_simulation as arrival\n",
    "\n",
    "from scipy.special import factorial, i0\n",
    "from scipy import stats\n",
    "from collections import Counter\n",
    "from sklearn.neighbors import KernelDensity"
   ]
  },
  {
   "cell_type": "markdown",
   "id": "be16c91c",
   "metadata": {},
   "source": [
    "<div class=\"myblock exercise\">\n",
    "<h1>Exercise 1</h1> <a href='#Ejercicio-1' class='anchor-link'>¶</a>\n",
    "\n",
    "A Poisson process with rate $\\lambda$ can be defined as a counting process $\\{N(t); t \\ge0 \\}$ with the following properties:\n",
    "    \n",
    "(a) $N(0) = 0$\n",
    "\n",
    "(b) $N(t)$  has independent and stationary increments.\n",
    "    \n",
    "(c) Let $\\Delta N(t) = N(t + \\Delta t) - N(t)$ with $\\Delta t \\rightarrow 0^+$. The following relations hold:\n",
    "    \n",
    "$$\n",
    "\\begin{align}\n",
    "    \\mathbb P[\\Delta N(t) = 0] & \\; = 1 - \\lambda \\Delta t + o(\\Delta t) \\qquad & (1) \\\\ \n",
    "    \\mathbb P[\\Delta N(t) = 1] & \\; = \\lambda \\Delta t + o(\\Delta t) \\qquad & (2) \\\\\n",
    "    \\mathbb P[\\Delta N(t) \\ge 2] & \\; = o(\\Delta t) \\qquad & (3)\n",
    "\\end{align}\n",
    "$$\n",
    "    \n",
    "<b>a)</b> From this definition show that\n",
    "\n",
    "$$\n",
    "    \\mathbb P[N(t) = n] = \\frac{1}{n!} \\lambda^n t^n e^{-\\lambda t} \\qquad (4) \\\\\n",
    "$$  \n",
    "     \n",
    "<b>b)</b> Illustrate the validity of the derivation by comparing the empirical distribution obtained in a simulation of the Poisson process and the theorical distribution of $\\mathbb P[N(t) = n]$ given by the equation (4) for the values $\\lambda=10$ and $t=2$.\n",
    "</div>"
   ]
  },
  {
   "cell_type": "markdown",
   "id": "590e7b36",
   "metadata": {},
   "source": [
    "### Solution to a)\n",
    "\n",
    "We will prove equation (4) by an inductive procedure.\n",
    "\n",
    "#### Case n=0:\n",
    "\n",
    "From statement (c) we know that $N(t + \\Delta t) = \\Delta N(t) + N(t)$. Then:\n",
    "\n",
    "$$\n",
    "\\begin{align}\n",
    "    \\mathbb P[N(t + \\Delta t) = 0] & = \\mathbb P[\\Delta N(t) + N(t) = 0] \\\\ \n",
    "    & \\stackrel{(*)}{=} \\mathbb P[\\Delta N(t) = 0] \\; \\mathbb P[N(t) = 0] \\\\\n",
    "    & \\stackrel{(1)}{=} \\mathbb P[\\Delta N(t) = 0] \\;  (1 - \\lambda \\Delta t + o(\\Delta t)) \\\\\n",
    "\\end{align}\n",
    "$$\n",
    "\n",
    "where in $(*)$ we statement (b) and the fact that $N(t), \\Delta N(t) \\ge 0$. Rearranging the previous terms we obtain:\n",
    "\n",
    "$$\n",
    "    \\frac{ \\mathbb P[N(t + \\Delta t) = 0] - \\mathbb P[\\Delta N(t) = 0] } {\\Delta t} = - \\lambda \\mathbb P[\\Delta N(t) = 0] + \\frac{o(\\Delta t)}{\\Delta t} \\mathbb P[\\Delta N(t) = 0]\n",
    "$$\n",
    "\n",
    "Taking $\\lim_{\\Delta t \\rightarrow 0^+}$ and using the definition of derivative we obtain:\n",
    "\n",
    "$$\n",
    "    \\frac{\\text d} {\\text dt} \\mathbb P[\\Delta N(t) = 0] = - \\lambda \\mathbb P[\\Delta N(t) = 0]\n",
    "$$\n",
    "\n",
    "This is a linear homogeneus diferential equation, which only solution that satifies the initial condition $\\mathbb P[\\Delta N(t) = 0] = 1$ is\n",
    "\n",
    "$$\n",
    "    \\mathbb P[\\Delta N(t) = 0] = e^{-\\lambda t}\n",
    "$$\n",
    "\n",
    "#### Case n>0:\n",
    "\n",
    "Let's prove the $n$-case with our induction hypothesis for $n-1$:\n",
    "\n",
    "$$\n",
    "    \\mathbb P[N(t) = n-1] = \\frac{1}{(n-1)!} \\lambda^{n-1} t^{n-1} e^{-\\lambda t} \\qquad (5) \\\\\n",
    "$$  \n",
    "\n",
    "We begin with the same development as in the base case, but for and arbitrary $n$:\n",
    "\n",
    "$$\n",
    "\\begin{align}\n",
    "    \\mathbb P[N(t + \\Delta t) = n] & = \\mathbb P[\\Delta N(t) + N(t) = n] \\\\ \n",
    "    & \\stackrel{(*)}{=} \\sum_{k=0}^n \\mathbb P[\\Delta N(t) = k] \\; \\mathbb P[N(t) = n-k] \\\\\n",
    "    & = \\mathbb P[\\Delta N(t) = 0] \\; \\mathbb P[N(t) = n] \\\\\n",
    "    & + \\mathbb P[\\Delta N(t) = 1] \\; \\mathbb P[N(t) = n-1] \\\\\n",
    "    & + \\sum_{k=2}^n \\mathbb P[\\Delta N(t) = k] \\; \\mathbb P[N(t) = n-k] \\\\\n",
    "    & \\stackrel{(1,2,3)}{=} (1 - \\lambda \\Delta t + o(\\Delta t)) \\; \\mathbb P[N(t) = n] \\\\\n",
    "    & + (\\lambda \\Delta t + o(\\Delta t)) \\; \\mathbb P[N(t) = n-1] \\\\\n",
    "    & + o(\\Delta t) \\sum_{k=2}^n \\mathbb \\; \\mathbb P[N(t) = n-k] \\\\\n",
    "    & = (1 - \\lambda \\Delta t ) \\; \\mathbb P[N(t) = n] + \\lambda \\Delta t \\; \\mathbb P[N(t) = n-1] \\\\\n",
    "    & + o(\\Delta t) \\sum_{k=0}^n \\mathbb \\; \\mathbb P[N(t) = n-k] \\\\\n",
    "\\end{align}\n",
    "$$\n",
    "\n",
    "where in $(*)$ we statement (b) and the fact that $N(t), \\Delta N(t) \\ge 0$. Rearranging the previous terms we obtain:\n",
    "\n",
    "$$\n",
    "    \\frac{ \\mathbb P[N(t + \\Delta t) = n] - \\mathbb P[\\Delta N(t) = n] } {\\Delta t} = - \\lambda \\bigg( \\mathbb P[\\Delta N(t) = n] - \\mathbb P[\\Delta N(t) = n-1] \\bigg) + \\frac{o(\\Delta t)}{\\Delta t} \\sum_{k=0}^n \\mathbb \\; \\mathbb P[N(t) = n-k]\n",
    "$$\n",
    "\n",
    "Taking $\\lim_{\\Delta t \\rightarrow 0^+}$ and using the definition of derivative we obtain:\n",
    "\n",
    "$$\n",
    "    \\frac{\\text d} {\\text dt} \\mathbb P[\\Delta N(t) = n] = - \\lambda \\bigg( \\mathbb P[\\Delta N(t) = n] - \\mathbb P[\\Delta N(t) = n-1] \\bigg)\n",
    "$$\n",
    "\n",
    "Using the induction hypothesis (6) we obtain our differential equation:\n",
    "\n",
    "$$\n",
    "    \\frac{\\text d} {\\text dt} \\mathbb P[\\Delta N(t) = n] = - \\lambda \\bigg( \\mathbb P[\\Delta N(t) = n] - \\frac{1}{(n-1)!} \\lambda^{n-1} t^{n-1} e^{-\\lambda t} \\bigg)\n",
    "$$\n",
    "\n",
    "Let us rename our space variable in the previous equation understand it better. We are looking for a function $y(t)$ such that\n",
    "\n",
    "$$\n",
    "    \\frac{\\text d} {\\text dt} y(t) = - \\lambda \\bigg( y(t) - \\frac{1}{(n-1)!} \\lambda^{n-1} t^{n-1} e^{-\\lambda t} \\bigg) \\qquad (6) \\\\\n",
    "$$\n",
    "\n",
    "This differential equation is not linear and, as such, we can solve it using separated variables as we did in the base case. We may use Picard-Lindelöf's Theorem to prove that the solution is unique, and then prove that (4) is a solution to the equation (6). Thus, proving that is the only solution.\n",
    "\n",
    "<div class=\"myblock theorem\">\n",
    "<h1>Theorem (Picard Lindelöf's)</h1>\n",
    "\n",
    "Consider the initial value problem\n",
    "\n",
    "$$\n",
    "    \\frac{\\text d} {\\text dt} y(t) = f(t,y(t)), \\qquad y(t_{0})=y_{0}.\n",
    "$$\n",
    "    \n",
    "Suppose $f$ is uniformly Lipschitz continuous in $y$ (meaning the Lipschitz constant can be taken independent of $t$) and continuous in $t$, then there exists a unique solution $y(t)$ to the initial value problem.\n",
    "</div>\n",
    "\n",
    "Since our function $f(t,y(t))$ is continuous in $t$, we just need to prove that is uniformly Lipschitz continuous in $y$.\n",
    "\n",
    "$$\n",
    "    \\frac{\\text d} {\\text dy} f(t,y(t)) = - \\lambda \\in \\mathbb R\n",
    "$$\n",
    "\n",
    "Since the derivative with respect to $y$ of $f$ is constant, $f$ is uniformly Lipschitz continuous and our initial value problem given by teh equation (6) and the initial condition $\\mathbb P[\\Delta N(t) = n] = 0$ is unique.\n",
    "\n",
    "We just need to prove that (4) is a solution to the differential equation (6). Let $x(t)$ be\n",
    "\n",
    "$$\n",
    "    x(t) \\equiv \\frac{1}{n!} \\lambda^n t^n e^{-\\lambda t}.\n",
    "$$  \n",
    "\n",
    "Then,\n",
    "\n",
    "$$\n",
    "\\begin{align}\n",
    "    \\frac{\\text d} {\\text dt} x(t) & = \\frac{-\\lambda^{n+1} t^{n}}{n!} e^{-\\lambda t} + \\frac{\\lambda^{n} t^{n-1}}{(n-1)!} e^{-\\lambda t} \\\\ \n",
    "    & = -\\lambda \\bigg(\\frac{-\\lambda^{n} t^{n}}{n!} e^{\\lambda t} - \\frac{\\lambda^{n-1} t^{n-1}}{(n-1)!} e^{-\\lambda t} \\bigg) \\\\\n",
    "    & = -\\lambda \\bigg(x(t) - \\frac{\\lambda^{n-1} t^{n-1}}{(n-1)!} e^{-\\lambda t} \\bigg)\n",
    "\\end{align}\n",
    "$$\n",
    "\n",
    "Proving that $x(t)$ as defined in equation (4) is a solution to the differential equation."
   ]
  },
  {
   "cell_type": "markdown",
   "id": "c01683a1",
   "metadata": {},
   "source": [
    "### Solution to b)\n",
    "\n",
    "In order to simulate this Poisson process we will use the provided function $simulate\\_poisson$. Since it returns the different times of arrival of a simulated Poisson process with the given parameters, we simply fix $t_1=2$ and count the number of events that ocurred in that legnth of time.\n",
    "\n",
    "By repeating this process $n\\_samples=10**4$ times, we obtain different values of $\\mathbb P[N(2) = n]$. Finally, we use a $Counter$ to wrap the number of times $k$ events happened."
   ]
  },
  {
   "cell_type": "code",
   "execution_count": 3,
   "id": "59d9071e",
   "metadata": {},
   "outputs": [
    {
     "data": {
      "image/png": "[encoded data removed]",
      "text/plain": [
       "<Figure size 720x432 with 1 Axes>"
      ]
     },
     "metadata": {
      "needs_background": "light"
     },
     "output_type": "display_data"
    }
   ],
   "source": [
    "def exercise_1(t=2, max_n=40, lamb=10, n_samples=10**4):\n",
    "    # Theoretical\n",
    "    ns = np.arange(max_n+1)*1.0\n",
    "    y_theoretical = (lamb*t)**ns * np.exp(-lamb*t) / factorial(ns)\n",
    "\n",
    "    # Simulation\n",
    "    counter = Counter([ len(arrival_times) for arrival_times in arrival.simulate_poisson(0, t, lamb, n_samples)])\n",
    "    total_count = sum(counter.values())\n",
    "    y_simulated = [counter[i]/total_count for i in ns]\n",
    "\n",
    "    # Plotting\n",
    "    width = 0.35\n",
    "    plt.figure(figsize=(10, 6))\n",
    "    plt.bar(ns - width/2, y_theoretical, width, label='Theorical')\n",
    "    plt.bar(ns + width/2, y_simulated, width, label='Simulated')\n",
    "\n",
    "    plt.xlabel('n')\n",
    "    plt.ylabel('P[ N(2) = n ]')\n",
    "    plt.title('Empirical comparisson of a Poisson process with λ=10, t=2')\n",
    "    plt.legend()\n",
    "\n",
    "exercise_1()"
   ]
  },
  {
   "cell_type": "markdown",
   "id": "c66987ff",
   "metadata": {},
   "source": [
    "<div class=\"myblock exercise\">\n",
    "<h1>Exercise 2</h1> <a href='#Ejercicio-2' class='anchor-link'>¶</a>\n",
    "\n",
    "Simulate a Poisson process with $\\lambda = 5$. From these simulations show for different values of $n \\in \\{1,2,5,10\\}$ that the probability density of the $n$-th arrival is\n",
    "\n",
    "$$\n",
    "    f_{S_n} (t) = \\frac{1}{(n-1)!} \\lambda^n t^{n-1} e^{-\\lambda t}\n",
    "$$\n",
    "</div>"
   ]
  },
  {
   "cell_type": "markdown",
   "id": "4f560783",
   "metadata": {},
   "source": [
    "We will make use of kernel density estimations to approximate the theorical probability density function of the $n$th arrival, which actually matches the Erlang distribution. The $kde\\_bandwidth$ parameter dictates the bandwidth of each kernemini-kernel used in the estimation. For lower values, a better estimation is obtained for lower $n$s, which have huge peaks in small areas. However, the smaller we make that parameter, the more we overfit, obtaining less smooth estimations.\n",
    "\n",
    "In order to sample the $s_n$ time we re-use the provided function $simulate\\_poisson$, and grab the $(n$-$th - 1)$ element. We will sample that value $n\\_samples\\_kde=10^4$ times for a good estimation. "
   ]
  },
  {
   "cell_type": "code",
   "execution_count": 5,
   "id": "0723bcdd",
   "metadata": {},
   "outputs": [
    {
     "data": {
      "image/png": "[encoded data removed]",
      "text/plain": [
       "<Figure size 1296x864 with 4 Axes>"
      ]
     },
     "metadata": {
      "needs_background": "light"
     },
     "output_type": "display_data"
    }
   ],
   "source": [
    "def plot_kde_in_axis(axis, ts, pdf, pdf_kde, samples, lamb, n):\n",
    "    # Plot pdf and estimation\n",
    "    axis.fill_between(ts, pdf, alpha=0.3, color='C0', label='Theorical')\n",
    "    axis.plot(ts, pdf_kde, color='C1', label='Kernel density estimation')\n",
    "\n",
    "    # Plot little x's near the X axis\n",
    "    axis.plot(samples[:, 0], -0.06 - 0.05 * np.random.random(samples.shape[0]),\n",
    "              \"+k\", label='Samples')\n",
    "\n",
    "    axis.set_xlabel('t')\n",
    "    axis.set_ylabel('P[ N(t) = {} ]'.format(n))\n",
    "    axis.set_title('Empirical comparisson of a Poisson process with λ={}, n={}'.format(lamb, n))\n",
    "    axis.legend()\n",
    "\n",
    "def exercise_2(ns=[1,2,5,10], lamb=5, max_t=7, n_samples_kde=10**4, kde_bandwidth=0.1):\n",
    "    ts = np.arange(max_t, step=0.01)\n",
    "    _, axis = plt.subplots(2, 2, figsize=(18, 12))\n",
    "\n",
    "    for ax, n in zip(axis.flatten(), ns):\n",
    "        # Theorical\n",
    "        sn_pdf = stats.erlang.pdf(ts, a=n, scale=1/lamb)\n",
    "\n",
    "        # Kernel Density Estimation\n",
    "        sn_empirical = [ arrival_times[n-1] for arrival_times in arrival.simulate_poisson(0, max_t, lamb, n_samples_kde)]\n",
    "        sn_empirical = np.array(sn_empirical).reshape(-1, 1)\n",
    "        kernel_density_estimatior = KernelDensity(kernel='gaussian', bandwidth=kde_bandwidth).fit(sn_empirical)\n",
    "        sn_pdf_estimation = np.exp(kernel_density_estimatior.score_samples(np.array(ts).reshape(-1, 1)))\n",
    "\n",
    "        # Plotting\n",
    "        plot_kde_in_axis(ax, ts, sn_pdf, sn_pdf_estimation, sn_empirical, lamb, n)\n",
    "    \n",
    "exercise_2(kde_bandwidth=0.1)"
   ]
  },
  {
   "cell_type": "markdown",
   "id": "d356fb8a",
   "metadata": {},
   "source": [
    "<div class=\"myblock exercise\">\n",
    "<h1>Exercise 4</h1> <a href='#Ejercicio-4' class='anchor-link'>¶</a>\n",
    "\n",
    "Two teams $A$ and $B$ play a soccer match. The number of goals scored by Team $A$ is modeled by a Poisson process $N_{1}(t)$ with rate $\\lambda_{1} = 0.02$ goals per minute. The number of goals scored by Team $B$ is modeled by a Poisson process $N_{2}(t)$ with rate $\\lambda_{2} = 0.03$ goals per minute. The two processes are assumed to be independent. Let $N(t)$ be the total number of goals in the game up to and including time $t$. The game lasts for $90$ minutes.\n",
    "    \n",
    "<b>a)</b> Find the probability that no goals are scored.\n",
    "    \n",
    "<b>b)</b> Find the probability that at least two goals are scored in the game.\n",
    "    \n",
    "<b>c)</b> Find the probability of the final score being Team $A: 1$, Team $B: 2$.\n",
    "    \n",
    "<b>d)</b> Find the probability that they draw.\n",
    "\n",
    "<b>e)</b> Find the probability that Team B scores the first goal.\n",
    "    \n",
    "Confirm your results by writing a Python program that simulates the process and estimate the answers from the simulations.\n",
    "</div>"
   ]
  },
  {
   "cell_type": "markdown",
   "id": "016425fe",
   "metadata": {},
   "source": [
    "### Solution to a)\n",
    "\n",
    "We know that the number of goals scored in time $t$ by each time follows a satifies\n",
    "\n",
    "$$\n",
    "    \\mathbb P[N_i(t) = n] = \\frac{1}{n!} \\lambda_i^n t^n e^{-\\lambda_i t} \\qquad \\forall i \\in \\{1,2\\}\n",
    "$$  \n",
    "\n",
    "In particular:\n",
    "\n",
    "$$\n",
    "    \\mathbb P[N_i(t) = 0] = e^{-\\lambda_i t} \\qquad \\forall i \\in \\{1,2\\}\n",
    "$$\n",
    "\n",
    "For this first question we may use the number of goals scored by each time are independent random variables:\n",
    "\n",
    "$$\n",
    "    \\mathbb P[N_1(90) = 0, N_2(90) = 0] = \\mathbb P[N_1(90) = 0] \\cdot \\mathbb P[ N_2(90) = 0] = e^{-90\\lambda_1}  \\cdot e^{-90\\lambda_2} \\approx 0.0111\n",
    "$$\n",
    "\n",
    "In order to obtain a numerical approximation to this value we simulate $n\\_samples$ matches and use a *lambda* function as condition to see how many of those matches fullfil it. The fracion\n",
    "\n",
    "$$\n",
    "    \\hat p = \\frac{\\#\\text{Matches that fullfil the condition}}{\\#\\text{Total matches}}\n",
    "$$\n",
    "\n",
    "will be used to estimate questions **a)** to **d)**.\n",
    "\n",
    "Let us also fix the seed to make the experiments fully reproducible."
   ]
  },
  {
   "cell_type": "code",
   "execution_count": 5,
   "id": "1f991156",
   "metadata": {},
   "outputs": [
    {
     "name": "stdout",
     "output_type": "stream",
     "text": [
      "P[N_1(90) = 0, N_2(90) = 0] = 0.01135\n"
     ]
    }
   ],
   "source": [
    "def simulate_team_scores(t=90, lamb1=0.02, lamb2=0.03, n_samples=10**5):\n",
    "    return [ \n",
    "        [ len(arrival_times1), len(arrival_times2) ]\n",
    "        for arrival_times1, arrival_times2\n",
    "        in zip(arrival.simulate_poisson(0, t, lamb1, n_samples),\n",
    "               arrival.simulate_poisson(0, t, lamb2, n_samples))\n",
    "    ]\n",
    "\n",
    "def estimate_prob(condition, t=90, lamb1=0.02, lamb2=0.03, n_samples=10**5):\n",
    "    scores = simulate_team_scores(t=t, lamb1=lamb1, lamb2=lamb2, n_samples=n_samples)\n",
    "    fullfil_condition = np.sum([ condition(score) for score in scores ])\n",
    "    return 1.0*fullfil_condition / len(scores)\n",
    "\n",
    "np.random.seed(123)\n",
    "tie_on_0 = lambda x: x[0] == 0 and x[1] == 0\n",
    "print('P[N_1(90) = 0, N_2(90) = 0] = {}'.format(estimate_prob(tie_on_0)))"
   ]
  },
  {
   "cell_type": "markdown",
   "id": "95f082a7",
   "metadata": {},
   "source": [
    "### Solution to b)\n",
    "\n",
    "For this question we may use that $N(t) = N_1(t) + N_2(t)$ is a Possion process with rate $\\lambda = \\lambda_1 + \\lambda_2 = 0.05$:\n",
    "\n",
    "$$\n",
    "\\begin{align}\n",
    "    \\mathbb P[N_1(90) + N_2(90) \\ge 2] & = 1 - \\mathbb P[N_1(90) + N_2(90) < 2] \\\\\n",
    "    & = 1 - \\big( \\mathbb P[N(90) = 0 ] + \\mathbb P[N(90) = 1 ] \\big) \\\\\n",
    "    & = 1 - \\big( e^{-90\\lambda} + 90\\lambda e^{-90\\lambda} \\big) \\\\\n",
    "    & \\approx 0.9389 \\\\\n",
    "    \\\\ \n",
    "\\end{align}\n",
    "$$\n",
    "\n",
    "We can simulate this value by defining a new *lambda* condition and using the previously defined function: "
   ]
  },
  {
   "cell_type": "code",
   "execution_count": 22,
   "id": "9c63d564",
   "metadata": {},
   "outputs": [
    {
     "name": "stdout",
     "output_type": "stream",
     "text": [
      "P[N_1(90) + N_2(90) >= 2] = 0.93938\n"
     ]
    }
   ],
   "source": [
    "at_least_2 = lambda x: x[0] + x[1] >= 2\n",
    "print('P[N_1(90) + N_2(90) >= 2] = {}'.format(estimate_prob(at_least_2)))"
   ]
  },
  {
   "cell_type": "markdown",
   "id": "0ee28bd5",
   "metadata": {},
   "source": [
    "### Solution to c)\n",
    "\n",
    "This is a straight-forward computation using that both Poisson processes are independent:\n",
    "\n",
    "$$\n",
    "\\begin{align}\n",
    "    \\mathbb P[N_1(90) = 1, N_2(90) = 2] & = \\mathbb P[N_1(90) = 1] \\cdot \\mathbb P[N_2(90) = 2] \\\\\n",
    "    & = 90\\lambda_1 e^{-90\\lambda_1} \\cdot \\frac{1}{2} 90^2 \\lambda_2^2 e^{-90\\lambda_2} \\\\\n",
    "    & \\approx 0.07289 \\\\\n",
    "    \\\\ \n",
    "\\end{align}\n",
    "$$\n",
    "\n",
    "We can simulate this value by defining a new *lambda* condition and using the previously defined function:"
   ]
  },
  {
   "cell_type": "code",
   "execution_count": 23,
   "id": "d1e45f75",
   "metadata": {},
   "outputs": [
    {
     "name": "stdout",
     "output_type": "stream",
     "text": [
      "P[N_1(90) = 1, N_2(90) = 2] = 0.93877\n"
     ]
    }
   ],
   "source": [
    "one_and_two = lambda x: x[0] == 1 and x[1] == 2\n",
    "print('P[N_1(90) = 1, N_2(90) = 2] = {}'.format(estimate_prob(at_least_2)))"
   ]
  },
  {
   "cell_type": "markdown",
   "id": "5ee304f9",
   "metadata": {},
   "source": [
    "### Solution to d)\n",
    "\n",
    "For the theorical resolution of this question we will use the Bessel function with $\\eta$ degress of freedom:\n",
    "\n",
    "$$\n",
    "    I_\\eta(x) = \\sum_{k=0}^\\infty \\frac{1}{k! \\cdot \\Gamma(k + \\eta + 1)} \\left( \\frac{x}{2} \\right)^{2k + \\eta}\n",
    "$$\n",
    "\n",
    "Recall that if $m$ is an integer, $\\Gamma(m) = \\; !(m-1)$. Then, assuming $n$ is an integer and taking $\\eta=0$:\n",
    "\n",
    "$$\n",
    "    I_0(x) = \\sum_{k=0}^\\infty \\frac{1}{!k \\cdot \\Gamma(k + 1)} \\left( \\frac{x}{2} \\right)^{2k}\n",
    "    = \\sum_{k=0}^\\infty \\frac{1}{!k \\cdot !k} \\left( \\frac{x}{2} \\right)^{2k}\n",
    "$$\n",
    "\n",
    "Let us compute the probability:\n",
    "\n",
    "$$\n",
    "\\begin{align}\n",
    "    \\mathbb P[N_1(90) = N_2(90)] & = \\sum_{k=0}^\\infty \\mathbb P[N_1(90) = k] \\cdot \\mathbb P[N_2(90) = k] \\\\\n",
    "    & = \\sum_{k=0}^\\infty \\mathbb P[N_1(90) = k] \\cdot \\mathbb P[N_2(90) = k] \\\\\n",
    "    & = \\sum_{k=0}^\\infty \\frac{1}{k!} \\lambda_1^k t^k e^{-\\lambda_1 t} \\cdot \\frac{1}{k!} \\lambda_2^k t^k e^{-\\lambda_2 t} \\\\\n",
    "    & = e^{-(\\lambda_1 + \\lambda_2) t} \\sum_{k=0}^\\infty \\frac{1}{k! \\cdot k!} (\\lambda_1 \\lambda_2 t^2)^k\\\\\n",
    "    & = e^{-(\\lambda_1 + \\lambda_2) t} \\sum_{k=0}^\\infty \\frac{1}{k! \\cdot k!} \\left( \\sqrt{\\lambda_1 \\lambda_2} t \\right)^{2k} \\\\\n",
    "    & = e^{-(\\lambda_1 + \\lambda_2) t} \\sum_{k=0}^\\infty \\frac{1}{k! \\cdot k!} \\left( \\frac{2\\sqrt{\\lambda_1 \\lambda_2} t}{2} \\right)^{2k} \\\\\n",
    "    \\\\\n",
    "    & = e^{-(\\lambda_1 + \\lambda_2) t} \\cdot I_0 \\left( 2\\sqrt{\\lambda_1 \\lambda_2} t \\right) \\\\\n",
    "    & \\approx 0.1792\\\\ \n",
    "\\end{align}\n",
    "$$\n",
    "\n",
    "Where in the last step we used *scipiy.special.i0* to compute $I_0(x)$. We can simulate this value by defining a new *lambda* condition and using the previously defined function:"
   ]
  },
  {
   "cell_type": "code",
   "execution_count": 24,
   "id": "716cab25",
   "metadata": {},
   "outputs": [
    {
     "name": "stdout",
     "output_type": "stream",
     "text": [
      "P[N_1(90) = N_2(90)] = 0.18073\n"
     ]
    }
   ],
   "source": [
    "draw = lambda x: x[0] == x[1]\n",
    "print('P[N_1(90) = N_2(90)] = {}'.format(estimate_prob(draw)))"
   ]
  },
  {
   "cell_type": "markdown",
   "id": "e43b73a3",
   "metadata": {},
   "source": [
    "### Solution to e)\n",
    "\n",
    "For this last question we will traverse the times from $0$ to $90$ and check whether Team $A$ has score no goal and the Team $B$ scores the first goal in that instant. That is, whether the first arrival time of process $N_1(t), $s_1$ is $t$. We then use that the arrival times follow an Erlang distribution:\n",
    "\n",
    "$$\n",
    "    S_n \\sim f_{S_n} \\frac{1}{(n-1)!} \\lambda^n t^{n-1} e^{-\\lambda t}\n",
    "$$\n",
    "\n",
    "Then:\n",
    "\n",
    "$$\n",
    "\\begin{align}\n",
    "    \\int_0^{90} \\mathbb P[N_1(t) = 0, s_1 = t] \\text dt & = \\int_0^{90} e^{-\\lambda_1 t} \\cdot \\lambda_2 e^{-\\lambda_2 t} \\text dt \\\\\n",
    "    & = \\lambda_2 \\int_0^{90} e^{-(\\lambda_1 + \\lambda_2) t} \\text dt \\\\\n",
    "    & = \\lambda_2 \\bigg( \\frac{ e^{-(\\lambda_1 + \\lambda_2) t} }{-(\\lambda_1 + \\lambda_2)} \\bigg]^{90}_0 \\\\\n",
    "    & = \\frac{\\lambda_2}{\\lambda_1 + \\lambda_2} \\bigg( 1 - e^{-90(\\lambda_1 + \\lambda_2)}\\bigg) \\\\\n",
    "    & \\approx 0.5933 \\\\ \n",
    "\\end{align}\n",
    "$$\n",
    "\n",
    "In order to estimate this quantity with a simulation with run $n\\_samples$ games and see in how many of them Team $B$ scored first, being careful with the special cases where either one of the teams didn't score."
   ]
  },
  {
   "cell_type": "code",
   "execution_count": 41,
   "id": "a137f076",
   "metadata": {},
   "outputs": [
    {
     "name": "stdout",
     "output_type": "stream",
     "text": [
      "P[s_1,A'(t) > s_1,B(t) = 0] = 0.59364\n"
     ]
    }
   ],
   "source": [
    "def team_B_scores_first_prob(t=90, lamb1=0.02, lamb2=0.03, n_samples=10**5):\n",
    "    count = 0\n",
    "    for arrival_times1, arrival_times2 \\\n",
    "        in zip(arrival.simulate_poisson(0, t, lamb1, n_samples),\n",
    "               arrival.simulate_poisson(0, t, lamb2, n_samples)):\n",
    "        if len(arrival_times2) == 0:\n",
    "            # Team B didn't score a single goal.\n",
    "            continue\n",
    "        elif len(arrival_times1) == 0:\n",
    "            # Team A didn't score a single goal but B did.\n",
    "            count += 1\n",
    "        else:\n",
    "            # Both teams scored, compare when.\n",
    "            count += arrival_times1[0] > arrival_times2[0]\n",
    "    return 1.0 * count / n_samples\n",
    "    \n",
    "result = team_B_scores_first_prob()\n",
    "print('P[s_1,A\\'(t) > s_1,B(t) = 0] = {}'.format(result))"
   ]
  }
 ],
 "metadata": {
  "interpreter": {
   "hash": "327d94c82653bcbf1591f046bfaa83bb7ace16fe227fc7b230f02edc918e6ba7"
  },
  "kernelspec": {
   "display_name": "Python 3 (ipykernel)",
   "language": "python",
   "name": "python3"
  },
  "language_info": {
   "codemirror_mode": {
    "name": "ipython",
    "version": 3
   },
   "file_extension": ".py",
   "mimetype": "text/x-python",
   "name": "python",
   "nbconvert_exporter": "python",
   "pygments_lexer": "ipython3",
   "version": "3.7.0"
  }
 },
 "nbformat": 4,
 "nbformat_minor": 5
}
