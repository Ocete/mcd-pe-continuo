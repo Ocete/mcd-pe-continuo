{
 "cells": [
  {
   "cell_type": "code",
   "execution_count": 1,
   "metadata": {},
   "outputs": [],
   "source": [
    "%load_ext autoreload\n",
    "%autoreload 2\n",
    "import numpy as np\n",
    "import matplotlib.pyplot as plt\n",
    "import stochastic_plots as stoch\n",
    "import examen_ordinaria_PE_2020_2021 as pe\n",
    "\n",
    "# Author: <alberto.suarez@uam.es>\n"
   ]
  },
  {
   "cell_type": "markdown",
   "metadata": {},
   "source": [
    "# Exercise 1: Simulation of a Continuous-time Markov Chain"
   ]
  },
  {
   "cell_type": "markdown",
   "metadata": {},
   "source": [
    "## Continuous-time Markov Chain"
   ]
  },
  {
   "cell_type": "code",
   "execution_count": 2,
   "metadata": {},
   "outputs": [],
   "source": [
    "# Simulation of a few trajectories"
   ]
  },
  {
   "cell_type": "code",
   "execution_count": 3,
   "metadata": {},
   "outputs": [],
   "source": [
    "# Stationary distribution of the jump process from a single trajectory\n"
   ]
  },
  {
   "cell_type": "code",
   "execution_count": 4,
   "metadata": {},
   "outputs": [],
   "source": [
    "# Stationary distribution of the CTMC from a single trajectory"
   ]
  },
  {
   "cell_type": "code",
   "execution_count": 5,
   "metadata": {},
   "outputs": [],
   "source": [
    "# Stationary distribution of the CTMC from the final state in a sample of M trajectories\n"
   ]
  },
  {
   "cell_type": "markdown",
   "metadata": {},
   "source": [
    "## Exercise 2: Simulation of a Brownian bridge process"
   ]
  },
  {
   "cell_type": "markdown",
   "metadata": {},
   "source": [
    "### Expected value of the standard Wiener process"
   ]
  },
  {
   "cell_type": "markdown",
   "metadata": {},
   "source": [
    "Consider the expression for the standard Brownian bridge\n",
    "$$ \n",
    "BB_{std}(t) = W(t) - W(1) \\, t \n",
    "$$\n",
    "\n",
    "The mean of this process is\n",
    "$$ \n",
    "\\mathbb{E}\\left[ BB_{std}(t) \\right] = \\mathbb{E}\\left[ W(t) - W(1) \\, t \\right]\n",
    "$$\n",
    "The expected value operator is linear. Therefore, \n",
    "$$ \n",
    "\\mathbb{E}\\left[ BB_{std}(t) \\right] = \\mathbb{E}\\left[ W(t) \\right] - \\mathbb{E}\\left[ W(1) \\right] t.\n",
    "$$\n",
    "Since process $W(t)$ has zero mean $\\mathbb{E}\\left[ W(t) \\right] = 0, \\ \\forall t \\ge 0$\n",
    "$$ \n",
    "\\mathbb{E}\\left[ BB_{std}(t) \\right] = 0, \\quad \\forall t \\in \\left[0, 1 \\right].\n",
    "$$"
   ]
  },
  {
   "cell_type": "markdown",
   "metadata": {},
   "source": [
    "### Covariance function for the standard Brownian bridge"
   ]
  },
  {
   "cell_type": "markdown",
   "metadata": {},
   "source": [
    "The covariance function for the standard Brownian bridge is defined as\n",
    "$$ \n",
    "\\gamma(t,s) = \n",
    " \\mathbb{E} \\left[\\left(BB_{std}(s) - \\mathbb{E}\\left[ BB_{std}(s) \\right] \\right)  \\left(BB_{std}(t) \\right] - \\mathbb{E}\\left[ BB_{std}(t) \\right] \\right). \n",
    "$$ \n",
    "Using \n",
    "$$ \n",
    "BB_{std}(t) = W(t) - W(1) \\, t, \\quad \\mathbb{E}\\left[ BB_{std}(t) \\right] = 0\n",
    ",$$ \n",
    "and \n",
    "$$\n",
    "\\gamma(s, t) = \n",
    " \\mathbb{E} \\left[ \\left(W(s) - W(1) \\, s \\right) \\left(W(t) - W(1) \\,  t \\right)\\right] =\n",
    " \\mathbb{E} \\left[ W(s) W(t) \\right]  + \\mathbb{E} \\left[W^2(1)\\right] s t - \\mathbb{E} \\left[W(1) W(t)\\right] \\, s \n",
    "- \\mathbb{E} \\left[W(s) W(1) \\right]  \\, t. \n",
    "$$ \n",
    "Finally, taking into account that\n",
    "$$ \n",
    "\\mathbb{E}\\left[ W(s) W(t) \\right] = \\min(s, t), $$ \n",
    "one gets \n",
    "$$ \n",
    "\\gamma(s, t) =  \\min(s, t) + s t - t s - s t = \\min(s, t) - s t. \n",
    "$$ \n"
   ]
  },
  {
   "cell_type": "markdown",
   "metadata": {},
   "source": [
    "### Mean function for a general Brownian bridge"
   ]
  },
  {
   "cell_type": "markdown",
   "metadata": {},
   "source": []
  },
  {
   "cell_type": "markdown",
   "metadata": {},
   "source": [
    "### Covariance function for a general Brownian bridge"
   ]
  },
  {
   "cell_type": "markdown",
   "metadata": {},
   "source": []
  },
  {
   "cell_type": "code",
   "execution_count": 6,
   "metadata": {
    "scrolled": true
   },
   "outputs": [],
   "source": [
    "## Brownian bridge simulation\n"
   ]
  },
  {
   "cell_type": "markdown",
   "metadata": {},
   "source": [
    "# Exercise 3: Simulation of a stochastic volatility model"
   ]
  },
  {
   "cell_type": "markdown",
   "metadata": {},
   "source": [
    "### Derivation of $\\mathbb{E}\\left[\\sigma(t)\\right]$"
   ]
  },
  {
   "cell_type": "markdown",
   "metadata": {},
   "source": [
    "Consider the Ito SDE\n",
    "$$\n",
    "d \\sigma(t) = - \\alpha \\left( \\sigma(t) -  \\sigma_{\\infty} \\right) dt + \\xi dW(t),   \n",
    "$$\n",
    "where $\\alpha > 0$ is the reversion rate, $\\xi > 0$ is the volatility of the stochastic process $\\sigma(t)$. \n",
    "\n",
    "Define the process $X(t) = \\sigma(t) - \\sigma_{\\infty}$. Since $ \\sigma_{\\infty} $ is constant, $dX(t) = d \\sigma(t)$, and the equation becomes\n",
    "$$\n",
    "d X(t) = - \\alpha X(t) dt + \\xi dW(t).\n",
    "$$\n",
    "\n",
    "\n",
    "Let's take the expected value on both sizes of the equation \n",
    "$$\n",
    "\\mathbb{E}\\left[dX(t) \\right] = \\mathbb{E}\\left[ - \\alpha  X(t) dt + \\xi  dW(t) \\right].\n",
    "$$\n",
    "\n",
    "Using the fact that the expected value is a linear operator, we get\n",
    "$$\n",
    "d\\mathbb{E} \\left[X(t) \\right] = - \\alpha \\mathbb{E}\\left[ X(t) \\right] dt + \\xi \\mathbb{E}\\left[ dW(t) \\right].\n",
    "$$\n",
    "Since the Wiener process has zero mean, the equation becomes \n",
    "$$\n",
    "d \\mathbb{E} \\left[ X(t) \\right] = - \\alpha  \\mathbb{E} \\left[ X(t) \\right] dt.\n",
    "$$\n",
    "Using the method of separation of variables\n",
    "$$\n",
    "\\frac{1}{ \\mathbb{E} \\left[ X(t) \\right]} d \\mathbb{E} \\left[ X(t) \\right] = - \\alpha dt,\n",
    "$$\n",
    "the equation can be integrated between $(t_0, X_0)$, where $X_0 = \\sigma_0 - \\sigma_{\\infty}$, and $\\left(t,  \\mathbb{E} \\left[ X(t) \\right] \\right)$\n",
    "$$\n",
    "\\int_{X_0}^{\\mathbb{E} \\left[ X(t) \\right]} \\frac{1}{ \\mathbb{E} \\left[ X \\right]} d \\mathbb{E} \\left[ X \\right]  = - \\alpha \\int_{t_0}^t d\\tau. \n",
    "$$\n",
    "The solution is\n",
    "$$\n",
    "\\log \\frac{ \\mathbb{E}\\left[X(t) \\right] }{ X_0 } = - \\alpha \\left(t- t_0 \\right).\n",
    "$$\n",
    "After some straightforward algebraic manipulation, one obtains\n",
    "$$\n",
    "\\mathbb{E} \\left[ X(t) \\right] =  X_0  e^{- \\alpha \\left(t- t_0 \\right)}.\n",
    "$$\n",
    "Undoing the change of variable, we obtain\n",
    "$$\n",
    "\\mathbb{E} \\left[ \\sigma(t) \\right] = \\sigma_{\\infty} + \\left(\\sigma_0  - \\sigma_{\\infty} \\right)  e^{- \\alpha \\left(t- t_0 \\right)}.\n",
    "$$"
   ]
  },
  {
   "cell_type": "markdown",
   "metadata": {},
   "source": [
    "### Derivation of $\\text{Var}\\left[\\sigma(t)\\right]$"
   ]
  },
  {
   "cell_type": "markdown",
   "metadata": {},
   "source": []
  },
  {
   "cell_type": "markdown",
   "metadata": {},
   "source": [
    "### Derivation of the conditional pdf:  $\\text{pdf}\\left[\\left.  t, \\sigma(t) \\right| t_0, \\sigma_0 \\right]$"
   ]
  },
  {
   "cell_type": "markdown",
   "metadata": {},
   "source": []
  },
  {
   "cell_type": "markdown",
   "metadata": {},
   "source": [
    "### Simulation of the SDE $\n",
    "d \\sigma(t) = - \\alpha \\left( \\sigma(t) -  \\sigma_{\\infty} \\right) dt + \\xi dW(t),   \n",
    "$\n"
   ]
  },
  {
   "cell_type": "code",
   "execution_count": 7,
   "metadata": {},
   "outputs": [],
   "source": [
    "# Simulation of a sample of trajectories"
   ]
  },
  {
   "cell_type": "code",
   "execution_count": 8,
   "metadata": {},
   "outputs": [],
   "source": [
    "# Mean and stdev of the trajectories simulated           \n",
    "                              "
   ]
  },
  {
   "cell_type": "code",
   "execution_count": 9,
   "metadata": {},
   "outputs": [],
   "source": [
    "# Asymptotic stationary pdf of the process"
   ]
  },
  {
   "cell_type": "markdown",
   "metadata": {},
   "source": [
    "# Exercise 4: Pricing of a European call option"
   ]
  },
  {
   "cell_type": "markdown",
   "metadata": {},
   "source": [
    "## Pricing by quadrature"
   ]
  },
  {
   "cell_type": "code",
   "execution_count": 10,
   "metadata": {},
   "outputs": [
    {
     "name": "stdout",
     "output_type": "stream",
     "text": [
      "Price = 26.2402\n"
     ]
    }
   ],
   "source": [
    "# Parameters that characterize underlying \n",
    "S0 = 100.0\n",
    "sigma = 0.3\n",
    "\n",
    "# Parameters of the EU call option\n",
    "K = 90.0\n",
    "T = 2.0\n",
    "\n",
    "# Risk-free interest rate\n",
    "r = 0.05\n",
    "\n",
    "price_EU_call = pe.price_EU_call(S0, K, r, sigma, T)\n",
    "\n",
    "print('Price = {:.4f}'.format(price_EU_call))"
   ]
  },
  {
   "cell_type": "markdown",
   "metadata": {},
   "source": [
    "## Monte Carlo pricing of a European call option"
   ]
  },
  {
   "cell_type": "code",
   "execution_count": null,
   "metadata": {},
   "outputs": [],
   "source": []
  },
  {
   "cell_type": "code",
   "execution_count": null,
   "metadata": {},
   "outputs": [],
   "source": []
  },
  {
   "cell_type": "code",
   "execution_count": null,
   "metadata": {},
   "outputs": [],
   "source": []
  }
 ],
 "metadata": {
  "kernelspec": {
   "display_name": "Python 3",
   "language": "python",
   "name": "python3"
  },
  "language_info": {
   "codemirror_mode": {
    "name": "ipython",
    "version": 3
   },
   "file_extension": ".py",
   "mimetype": "text/x-python",
   "name": "python",
   "nbconvert_exporter": "python",
   "pygments_lexer": "ipython3",
   "version": "3.8.3"
  }
 },
 "nbformat": 4,
 "nbformat_minor": 4
}
