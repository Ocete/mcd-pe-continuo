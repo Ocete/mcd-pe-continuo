{
 "cells": [
  {
   "cell_type": "code",
   "execution_count": 2,
   "metadata": {},
   "outputs": [
    {
     "name": "stdout",
     "output_type": "stream",
     "text": [
      "The autoreload extension is already loaded. To reload it, use:\n",
      "  %reload_ext autoreload\n"
     ]
    }
   ],
   "source": [
    "%load_ext autoreload\n",
    "%autoreload 2\n",
    "\n",
    "# Load packages\n",
    "import numpy as np\n",
    "import sde_solvers as sde\n",
    "from scipy import stats\n",
    "import matplotlib.pyplot as plt\n",
    "import imports.stochastic_plots as stoch\n",
    "import imports.arrival_process_simulation as arrival\n"
   ]
  },
  {
   "cell_type": "markdown",
   "metadata": {},
   "source": [
    "# Euler integration scheme for ODE's"
   ]
  },
  {
   "cell_type": "code",
   "execution_count": 4,
   "metadata": {},
   "outputs": [],
   "source": [
    "def ode_euler(t0, x0, T, a, N):\n",
    "\n",
    "    dT = T / N # size of simulation step\n",
    "    \n",
    "    # Initialize solution array\n",
    "    t = np.linspace(t0, t0+T, N+1) # integration grid\n",
    "    X = np.zeros(N+1)\n",
    "    \n",
    "    # Initial condition\n",
    "    X[0] = x0\n",
    " \n",
    "    # Integration of the ODE\n",
    "    for n in range(N):\n",
    "        X[n+1] = X[n] + a(t[n], X[n])*dT\n",
    "        \n",
    "    return (t, X)"
   ]
  },
  {
   "cell_type": "markdown",
   "metadata": {},
   "source": [
    "# Integration schemes for SDE's"
   ]
  },
  {
   "cell_type": "code",
   "execution_count": 5,
   "metadata": {},
   "outputs": [],
   "source": [
    "# Define SDE\n",
    "mu = 1.3\n",
    "sigma = 0.4\n",
    "def a(t,x): return mu*x\n",
    "def b(t,x): return sigma*x\n",
    "def db_dx(t,x): return sigma\n",
    "\n",
    "# Define initial conditions\n",
    "t0, x0 = 0.0, 100.0\n",
    "# Define the simulation parameters \n",
    "M = 10000 # Number of trajectories for simulation\n",
    "T = 2.0   # Length of simulation interval\n",
    "N = 1000  # Number of steps in simulation"
   ]
  },
  {
   "cell_type": "code",
   "execution_count": 6,
   "metadata": {},
   "outputs": [
    {
     "data": {
      "image/png": "[encoded data removed]",
      "text/plain": [
       "<Figure size 432x288 with 1 Axes>"
      ]
     },
     "metadata": {
      "needs_background": "light"
     },
     "output_type": "display_data"
    }
   ],
   "source": [
    "t, X_mean = ode_euler(t0, x0, T, a, N)\n",
    "_ = plt.plot(t, X_mean)"
   ]
  },
  {
   "cell_type": "markdown",
   "metadata": {},
   "source": [
    "## Stochastic Euler integration (Euler- Maruyana) scheme"
   ]
  },
  {
   "cell_type": "code",
   "execution_count": 7,
   "metadata": {},
   "outputs": [
    {
     "ename": "SystemExit",
     "evalue": "euler_maruyana not implemented",
     "output_type": "error",
     "traceback": [
      "An exception has occurred, use %tb to see the full traceback.\n",
      "\u001b[1;31mSystemExit\u001b[0m\u001b[1;31m:\u001b[0m euler_maruyana not implemented\n"
     ]
    },
    {
     "name": "stderr",
     "output_type": "stream",
     "text": [
      "C:\\Users\\Jose\\AppData\\Local\\Programs\\Python\\Python37\\lib\\site-packages\\IPython\\core\\interactiveshell.py:3452: UserWarning: To exit: use 'exit', 'quit', or Ctrl-D.\n",
      "  warn(\"To exit: use 'exit', 'quit', or Ctrl-D.\", stacklevel=1)\n"
     ]
    }
   ],
   "source": [
    "# Carry out simulation\n",
    "t, X_euler = sde.euler_maruyana(t0, x0, T, a, b, M, N)\n",
    "\n",
    "# Plot trajectories \n",
    "stoch.plot_trajectories(t, X_euler, fig_num=1)\n",
    "_ = plt.plot(t, X_mean, linewidth=1, color='r')\n"
   ]
  },
  {
   "cell_type": "markdown",
   "metadata": {},
   "source": [
    "## Milstein integration sheme"
   ]
  },
  {
   "cell_type": "code",
   "execution_count": 8,
   "metadata": {},
   "outputs": [
    {
     "ename": "SystemExit",
     "evalue": "milstein not implemented",
     "output_type": "error",
     "traceback": [
      "An exception has occurred, use %tb to see the full traceback.\n",
      "\u001b[1;31mSystemExit\u001b[0m\u001b[1;31m:\u001b[0m milstein not implemented\n"
     ]
    }
   ],
   "source": [
    "t, X_milstein = sde.milstein(t0, x0, T, a, b, db_dx, M, N)\n",
    "\n",
    "# Plot trajectories \n",
    "stoch.plot_trajectories(t, X_euler, fig_num=1) \n",
    "plt.plot(t, np.mean(X_milstein, axis=0), linewidth=1, color='r')\n",
    "\n",
    "# Plot histogram \n",
    "xT = X_euler[:,-1]\n",
    "def pdf(x): return stats.lognorm.pdf(x, \n",
    "                           sigma*np.sqrt(T), 0.0, np.exp((mu - 0.5*sigma**2)*T))\n",
    "stoch.plot_pdf(xT/x0, pdf, fig_num=2)"
   ]
  },
  {
   "cell_type": "markdown",
   "metadata": {},
   "source": [
    "## Jump simulator"
   ]
  },
  {
   "cell_type": "code",
   "execution_count": 9,
   "metadata": {},
   "outputs": [
    {
     "data": {
      "image/png": "[encoded data removed]",
      "text/plain": [
       "<Figure size 720x576 with 3 Axes>"
      ]
     },
     "metadata": {
      "needs_background": "light"
     },
     "output_type": "display_data"
    }
   ],
   "source": [
    "lambda_rate = 0.5\n",
    "beta_scale = 1.0/lambda_rate \n",
    "def simulator_arrival_times(t0, T): \n",
    "    return  arrival.simulate_poisson(t0, t0 + T, lambda_rate, M = 1)[0]\n",
    "def simulator_jump_sizes(N): return 0.2 + 0.5*np.random.randn(N)\n",
    "\n",
    "def simulator_jump_process(t0, T, M): \n",
    "    return sde.simulate_jump_process(t0, T,\n",
    "                                     simulator_arrival_times, \n",
    "                                     simulator_jump_sizes, \n",
    "                                     M)\n",
    "\n",
    "t0 = 0.0\n",
    "T = 2000.0\n",
    "M = 3\n",
    "times_of_jumps, sizes_of_jumps = simulator_jump_process(t0, T, M)\n",
    "\n",
    "fig, axs = plt.subplots(M, sharex=True, num=1, figsize=(10, 8))\n",
    "for m in range(M):\n",
    "     axs[m].bar(times_of_jumps[m], sizes_of_jumps[m])"
   ]
  },
  {
   "cell_type": "markdown",
   "metadata": {},
   "source": [
    "## Jump-diffusion SDE"
   ]
  },
  {
   "cell_type": "code",
   "execution_count": 10,
   "metadata": {},
   "outputs": [
    {
     "ename": "SystemExit",
     "evalue": "euler_jump_diffusion not implemented",
     "output_type": "error",
     "traceback": [
      "An exception has occurred, use %tb to see the full traceback.\n",
      "\u001b[1;31mSystemExit\u001b[0m\u001b[1;31m:\u001b[0m euler_jump_diffusion not implemented\n"
     ]
    }
   ],
   "source": [
    "## Define jump-diffusion SDE\n",
    "def a(t,x): return 5.0*x/x0\n",
    "def b(t,x): return 3.0*x/x0\n",
    "def c(t,x): return 10.0*x/x0\n",
    "\n",
    "## Define the conditions for the simulation\n",
    "\n",
    "t0 = 0\n",
    "x0 = 10.0\n",
    "T = 2.0\n",
    "N = 1000\n",
    "M = 500\n",
    "\n",
    "\n",
    "t, X = sde.euler_jump_diffusion(t0, x0, T, a, b, c, \n",
    "                         simulator_jump_process, \n",
    "                         M, N)\n",
    "\n",
    "stoch.plot_trajectories(t, X, fig_num=10)\n"
   ]
  },
  {
   "cell_type": "code",
   "execution_count": null,
   "metadata": {},
   "outputs": [],
   "source": []
  }
 ],
 "metadata": {
  "kernelspec": {
   "display_name": "Python 3",
   "language": "python",
   "name": "python3"
  },
  "language_info": {
   "codemirror_mode": {
    "name": "ipython",
    "version": 3
   },
   "file_extension": ".py",
   "mimetype": "text/x-python",
   "name": "python",
   "nbconvert_exporter": "python",
   "pygments_lexer": "ipython3",
   "version": "3.7.0"
  }
 },
 "nbformat": 4,
 "nbformat_minor": 4
}
